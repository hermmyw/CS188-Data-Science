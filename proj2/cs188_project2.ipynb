{
 "cells": [
  {
   "cell_type": "markdown",
   "metadata": {},
   "source": [
    "# CS188 Project 2 - Binary Classification Comparative Methods"
   ]
  },
  {
   "cell_type": "markdown",
   "metadata": {},
   "source": [
    "For this project we're going to attempt a binary classification of a dataset using multiple methods and compare results. \n",
    "\n",
    "Our goals for this project will be to introduce you to several of the most common classification techniques, how to perform them and tweek parameters to optimize outcomes, how to produce and interpret results, and compare performance. You will be asked to analyze your findings and provide explanations for observed performance. \n",
    "\n",
    "Specifically you will be asked to classify whether a <b>patient is suffering from heart disease</b> based on a host of potential medical factors.\n",
    "\n",
    "<b><u>DEFINITIONS</u></b>\n",
    "\n",
    "\n",
    "<b> Binary Classification:</b>\n",
    "In this case a complex dataset has an added 'target' label with one of two options. Your learning algorithm will try to assign one of these labels to the data.\n",
    "\n",
    "<b> Supervised Learning:</b>\n",
    "This data is fully supervised, which means it's been fully labeled and we can trust the veracity of the labeling."
   ]
  },
  {
   "cell_type": "markdown",
   "metadata": {},
   "source": [
    "## Background: The Dataset "
   ]
  },
  {
   "cell_type": "markdown",
   "metadata": {},
   "source": [
    "For this exercise we will be using a subset of the UCI Heart Disease dataset, leveraging the fourteen most commonly used attributes. All identifying information about the patient has been scrubbed. \n",
    "\n",
    "The dataset includes 14 columns. The information provided by each column is as follows:\n",
    "<ul>\n",
    "    <li><b>age:</b> Age in years</li>\n",
    "    <li><b>sex:</b> (1 = male; 0 = female)</li>\n",
    "    <li><b>cp:</b> Chest pain type (0 = asymptomatic; 1 = atypical angina; 2 = non-anginal pain; 3 = typical angina)</li>\n",
    "    <li><b>trestbps:</b> Resting blood pressure (in mm Hg on admission to the hospital)</li>\n",
    "    <li><b>cholserum:</b> Cholestoral in mg/dl</li>\n",
    "    <li><b>fbs</b> Fasting blood sugar > 120 mg/dl (1 = true; 0 = false)</li>\n",
    "    <li><b>restecg:</b> Resting electrocardiographic results (0= showing probable or definite left ventricular hypertrophy by Estes' criteria; 1 = normal; 2 = having ST-T wave abnormality (T wave inversions and/or ST elevation or depression of > 0.05 mV))</li>\n",
    "    <li><b>thalach:</b> Maximum heart rate achieved</li>\n",
    "    <li><b>exang:</b> Exercise induced angina (1 = yes; 0 = no)</li>\n",
    "    <li><b>oldpeakST:</b> Depression induced by exercise relative to rest</li>\n",
    "    <li><b>slope:</b> The slope of the peak exercise ST segment (0 = downsloping; 1 = flat; 2 = upsloping)</li>\n",
    "    <li><b>ca:</b> Number of major vessels (0-3) colored by flourosopy</li>\n",
    "    <li><b>thal:</b> 1 = normal; 2 = fixed defect; 7 = reversable defect</li>\n",
    "    <li><b><u>Sick:</u></b> Indicates the presence of Heart disease (True = Disease; False = No disease)</li>\n",
    "</ul>\n",
    "    \n"
   ]
  },
  {
   "cell_type": "markdown",
   "metadata": {},
   "source": [
    "## Loading Essentials and Helper Functions "
   ]
  },
  {
   "cell_type": "code",
   "execution_count": 746,
   "metadata": {},
   "outputs": [],
   "source": [
    "#Here are a set of libraries we imported to complete this assignment. \n",
    "#Feel free to use these or equivalent libraries for your implementation\n",
    "import numpy as np # linear algebra\n",
    "import pandas as pd # data processing, CSV file I/O (e.g. pd.read_csv)\n",
    "import matplotlib.pyplot as plt # this is used for the plot the graph \n",
    "import os\n",
    "import seaborn as sns # used for plot interactive graph.\n",
    "from sklearn.model_selection import train_test_split, cross_val_score, GridSearchCV\n",
    "from sklearn import metrics\n",
    "from sklearn.svm import SVC  \n",
    "from sklearn.linear_model import LogisticRegression\n",
    "from sklearn.neighbors import KNeighborsClassifier\n",
    "from sklearn.tree import DecisionTreeClassifier\n",
    "from sklearn.cluster import KMeans\n",
    "from sklearn.metrics import confusion_matrix\n",
    "import sklearn.metrics.cluster as smc\n",
    "from sklearn.model_selection import KFold\n",
    "\n",
    "\n",
    "from matplotlib import pyplot\n",
    "import itertools\n",
    "\n",
    "%matplotlib inline\n",
    "import random \n",
    "  \n",
    "random.seed(42) "
   ]
  },
  {
   "cell_type": "code",
   "execution_count": 747,
   "metadata": {},
   "outputs": [],
   "source": [
    "# Helper function allowing you to export a graph\n",
    "def save_fig(fig_id, tight_layout=True, fig_extension=\"png\", resolution=300):\n",
    "    path = os.path.join(fig_id + \".\" + fig_extension)\n",
    "    print(\"Saving figure\", fig_id)\n",
    "    if tight_layout:\n",
    "        plt.tight_layout()\n",
    "    plt.savefig(path, format=fig_extension, dpi=resolution)"
   ]
  },
  {
   "cell_type": "code",
   "execution_count": 748,
   "metadata": {},
   "outputs": [],
   "source": [
    "# Helper function that allows you to draw nicely formatted confusion matrices\n",
    "def draw_confusion_matrix(y, yhat, classes):\n",
    "    '''\n",
    "        Draws a confusion matrix for the given target and predictions\n",
    "        Adapted from scikit-learn and discussion example.\n",
    "    '''\n",
    "    plt.cla()\n",
    "    plt.clf()\n",
    "    matrix = confusion_matrix(y, yhat)\n",
    "    plt.imshow(matrix, interpolation='nearest', cmap=plt.cm.Blues)\n",
    "    plt.title(\"Confusion Matrix\")\n",
    "    plt.colorbar()\n",
    "    num_classes = len(classes)\n",
    "    plt.xticks(np.arange(num_classes), classes, rotation=90)\n",
    "    plt.yticks(np.arange(num_classes), classes)\n",
    "    \n",
    "    fmt = 'd'\n",
    "    thresh = matrix.max() / 2.\n",
    "    for i, j in itertools.product(range(matrix.shape[0]), range(matrix.shape[1])):\n",
    "        plt.text(j, i, format(matrix[i, j], fmt),\n",
    "                 horizontalalignment=\"center\",\n",
    "                 color=\"white\" if matrix[i, j] > thresh else \"black\")\n",
    "\n",
    "    plt.ylabel('True label')\n",
    "    plt.xlabel('Predicted label')\n",
    "    plt.tight_layout()\n",
    "    plt.show()"
   ]
  },
  {
   "cell_type": "markdown",
   "metadata": {},
   "source": [
    "## [20 Points] Part 1. Load the Data and Analyze"
   ]
  },
  {
   "cell_type": "markdown",
   "metadata": {},
   "source": [
    "Let's first load our dataset so we'll be able to work with it. (correct the relative path if your notebook is in a different directory than the csv file.)"
   ]
  },
  {
   "cell_type": "code",
   "execution_count": 749,
   "metadata": {},
   "outputs": [],
   "source": [
    "DATASET_PATH = \"heartdisease.csv\"\n",
    "heartdisease = pd.read_csv(DATASET_PATH)"
   ]
  },
  {
   "cell_type": "markdown",
   "metadata": {},
   "source": [
    "### Question 1.1 Now that our data is loaded, let's take a closer look at the dataset we're working with. Use the head method to display some of the rows so we can visualize the types of data fields we'll be working with, then use the describe method, along with any additional methods you'd like to call to better help you understand what you're working with and what issues you might face. "
   ]
  },
  {
   "cell_type": "code",
   "execution_count": 750,
   "metadata": {},
   "outputs": [
    {
     "data": {
      "text/html": [
       "<div>\n",
       "<style scoped>\n",
       "    .dataframe tbody tr th:only-of-type {\n",
       "        vertical-align: middle;\n",
       "    }\n",
       "\n",
       "    .dataframe tbody tr th {\n",
       "        vertical-align: top;\n",
       "    }\n",
       "\n",
       "    .dataframe thead th {\n",
       "        text-align: right;\n",
       "    }\n",
       "</style>\n",
       "<table border=\"1\" class=\"dataframe\">\n",
       "  <thead>\n",
       "    <tr style=\"text-align: right;\">\n",
       "      <th></th>\n",
       "      <th>age</th>\n",
       "      <th>sex</th>\n",
       "      <th>cp</th>\n",
       "      <th>trestbps</th>\n",
       "      <th>chol</th>\n",
       "      <th>fbs</th>\n",
       "      <th>restecg</th>\n",
       "      <th>thalach</th>\n",
       "      <th>exang</th>\n",
       "      <th>oldpeak</th>\n",
       "      <th>slope</th>\n",
       "      <th>ca</th>\n",
       "      <th>thal</th>\n",
       "    </tr>\n",
       "  </thead>\n",
       "  <tbody>\n",
       "    <tr>\n",
       "      <th>0</th>\n",
       "      <td>63</td>\n",
       "      <td>1</td>\n",
       "      <td>3</td>\n",
       "      <td>145</td>\n",
       "      <td>233</td>\n",
       "      <td>1</td>\n",
       "      <td>0</td>\n",
       "      <td>150</td>\n",
       "      <td>0</td>\n",
       "      <td>2.3</td>\n",
       "      <td>0</td>\n",
       "      <td>0</td>\n",
       "      <td>1</td>\n",
       "    </tr>\n",
       "    <tr>\n",
       "      <th>1</th>\n",
       "      <td>37</td>\n",
       "      <td>1</td>\n",
       "      <td>2</td>\n",
       "      <td>130</td>\n",
       "      <td>250</td>\n",
       "      <td>0</td>\n",
       "      <td>1</td>\n",
       "      <td>187</td>\n",
       "      <td>0</td>\n",
       "      <td>3.5</td>\n",
       "      <td>0</td>\n",
       "      <td>0</td>\n",
       "      <td>2</td>\n",
       "    </tr>\n",
       "    <tr>\n",
       "      <th>2</th>\n",
       "      <td>41</td>\n",
       "      <td>0</td>\n",
       "      <td>1</td>\n",
       "      <td>130</td>\n",
       "      <td>204</td>\n",
       "      <td>0</td>\n",
       "      <td>0</td>\n",
       "      <td>172</td>\n",
       "      <td>0</td>\n",
       "      <td>1.4</td>\n",
       "      <td>2</td>\n",
       "      <td>0</td>\n",
       "      <td>2</td>\n",
       "    </tr>\n",
       "    <tr>\n",
       "      <th>3</th>\n",
       "      <td>56</td>\n",
       "      <td>1</td>\n",
       "      <td>1</td>\n",
       "      <td>120</td>\n",
       "      <td>236</td>\n",
       "      <td>0</td>\n",
       "      <td>1</td>\n",
       "      <td>178</td>\n",
       "      <td>0</td>\n",
       "      <td>0.8</td>\n",
       "      <td>2</td>\n",
       "      <td>0</td>\n",
       "      <td>2</td>\n",
       "    </tr>\n",
       "    <tr>\n",
       "      <th>4</th>\n",
       "      <td>57</td>\n",
       "      <td>0</td>\n",
       "      <td>0</td>\n",
       "      <td>120</td>\n",
       "      <td>354</td>\n",
       "      <td>0</td>\n",
       "      <td>1</td>\n",
       "      <td>163</td>\n",
       "      <td>1</td>\n",
       "      <td>0.6</td>\n",
       "      <td>2</td>\n",
       "      <td>0</td>\n",
       "      <td>2</td>\n",
       "    </tr>\n",
       "  </tbody>\n",
       "</table>\n",
       "</div>"
      ],
      "text/plain": [
       "   age  sex  cp  trestbps  chol  fbs  restecg  thalach  exang  oldpeak  slope  \\\n",
       "0   63    1   3       145   233    1        0      150      0      2.3      0   \n",
       "1   37    1   2       130   250    0        1      187      0      3.5      0   \n",
       "2   41    0   1       130   204    0        0      172      0      1.4      2   \n",
       "3   56    1   1       120   236    0        1      178      0      0.8      2   \n",
       "4   57    0   0       120   354    0        1      163      1      0.6      2   \n",
       "\n",
       "   ca  thal  \n",
       "0   0     1  \n",
       "1   0     2  \n",
       "2   0     2  \n",
       "3   0     2  \n",
       "4   0     2  "
      ]
     },
     "execution_count": 750,
     "metadata": {},
     "output_type": "execute_result"
    }
   ],
   "source": [
    "heartdisease.head().iloc[:, :13]  # first 13 columns"
   ]
  },
  {
   "cell_type": "code",
   "execution_count": 751,
   "metadata": {},
   "outputs": [
    {
     "data": {
      "text/html": [
       "<div>\n",
       "<style scoped>\n",
       "    .dataframe tbody tr th:only-of-type {\n",
       "        vertical-align: middle;\n",
       "    }\n",
       "\n",
       "    .dataframe tbody tr th {\n",
       "        vertical-align: top;\n",
       "    }\n",
       "\n",
       "    .dataframe thead th {\n",
       "        text-align: right;\n",
       "    }\n",
       "</style>\n",
       "<table border=\"1\" class=\"dataframe\">\n",
       "  <thead>\n",
       "    <tr style=\"text-align: right;\">\n",
       "      <th></th>\n",
       "      <th>age</th>\n",
       "      <th>sex</th>\n",
       "      <th>cp</th>\n",
       "      <th>trestbps</th>\n",
       "      <th>chol</th>\n",
       "      <th>fbs</th>\n",
       "    </tr>\n",
       "  </thead>\n",
       "  <tbody>\n",
       "    <tr>\n",
       "      <th>count</th>\n",
       "      <td>303.000000</td>\n",
       "      <td>303.000000</td>\n",
       "      <td>303.000000</td>\n",
       "      <td>303.000000</td>\n",
       "      <td>303.000000</td>\n",
       "      <td>303.000000</td>\n",
       "    </tr>\n",
       "    <tr>\n",
       "      <th>mean</th>\n",
       "      <td>54.366337</td>\n",
       "      <td>0.683168</td>\n",
       "      <td>0.966997</td>\n",
       "      <td>131.623762</td>\n",
       "      <td>246.264026</td>\n",
       "      <td>0.148515</td>\n",
       "    </tr>\n",
       "    <tr>\n",
       "      <th>std</th>\n",
       "      <td>9.082101</td>\n",
       "      <td>0.466011</td>\n",
       "      <td>1.032052</td>\n",
       "      <td>17.538143</td>\n",
       "      <td>51.830751</td>\n",
       "      <td>0.356198</td>\n",
       "    </tr>\n",
       "    <tr>\n",
       "      <th>min</th>\n",
       "      <td>29.000000</td>\n",
       "      <td>0.000000</td>\n",
       "      <td>0.000000</td>\n",
       "      <td>94.000000</td>\n",
       "      <td>126.000000</td>\n",
       "      <td>0.000000</td>\n",
       "    </tr>\n",
       "    <tr>\n",
       "      <th>25%</th>\n",
       "      <td>47.500000</td>\n",
       "      <td>0.000000</td>\n",
       "      <td>0.000000</td>\n",
       "      <td>120.000000</td>\n",
       "      <td>211.000000</td>\n",
       "      <td>0.000000</td>\n",
       "    </tr>\n",
       "    <tr>\n",
       "      <th>50%</th>\n",
       "      <td>55.000000</td>\n",
       "      <td>1.000000</td>\n",
       "      <td>1.000000</td>\n",
       "      <td>130.000000</td>\n",
       "      <td>240.000000</td>\n",
       "      <td>0.000000</td>\n",
       "    </tr>\n",
       "    <tr>\n",
       "      <th>75%</th>\n",
       "      <td>61.000000</td>\n",
       "      <td>1.000000</td>\n",
       "      <td>2.000000</td>\n",
       "      <td>140.000000</td>\n",
       "      <td>274.500000</td>\n",
       "      <td>0.000000</td>\n",
       "    </tr>\n",
       "    <tr>\n",
       "      <th>max</th>\n",
       "      <td>77.000000</td>\n",
       "      <td>1.000000</td>\n",
       "      <td>3.000000</td>\n",
       "      <td>200.000000</td>\n",
       "      <td>564.000000</td>\n",
       "      <td>1.000000</td>\n",
       "    </tr>\n",
       "  </tbody>\n",
       "</table>\n",
       "</div>"
      ],
      "text/plain": [
       "              age         sex          cp    trestbps        chol         fbs\n",
       "count  303.000000  303.000000  303.000000  303.000000  303.000000  303.000000\n",
       "mean    54.366337    0.683168    0.966997  131.623762  246.264026    0.148515\n",
       "std      9.082101    0.466011    1.032052   17.538143   51.830751    0.356198\n",
       "min     29.000000    0.000000    0.000000   94.000000  126.000000    0.000000\n",
       "25%     47.500000    0.000000    0.000000  120.000000  211.000000    0.000000\n",
       "50%     55.000000    1.000000    1.000000  130.000000  240.000000    0.000000\n",
       "75%     61.000000    1.000000    2.000000  140.000000  274.500000    0.000000\n",
       "max     77.000000    1.000000    3.000000  200.000000  564.000000    1.000000"
      ]
     },
     "execution_count": 751,
     "metadata": {},
     "output_type": "execute_result"
    }
   ],
   "source": [
    "heartdisease.describe().iloc[:, :6] # first 6 columns"
   ]
  },
  {
   "cell_type": "code",
   "execution_count": 752,
   "metadata": {},
   "outputs": [
    {
     "name": "stdout",
     "output_type": "stream",
     "text": [
      "<class 'pandas.core.frame.DataFrame'>\n",
      "RangeIndex: 303 entries, 0 to 302\n",
      "Data columns (total 14 columns):\n",
      "age         303 non-null int64\n",
      "sex         303 non-null int64\n",
      "cp          303 non-null int64\n",
      "trestbps    303 non-null int64\n",
      "chol        303 non-null int64\n",
      "fbs         303 non-null int64\n",
      "restecg     303 non-null int64\n",
      "thalach     303 non-null int64\n",
      "exang       303 non-null int64\n",
      "oldpeak     303 non-null float64\n",
      "slope       303 non-null int64\n",
      "ca          303 non-null int64\n",
      "thal        303 non-null int64\n",
      "sick        303 non-null bool\n",
      "dtypes: bool(1), float64(1), int64(12)\n",
      "memory usage: 31.1 KB\n"
     ]
    }
   ],
   "source": [
    "heartdisease.info()"
   ]
  },
  {
   "cell_type": "markdown",
   "metadata": {},
   "source": [
    "### Question 1.2 Discuss your data preprocessing strategy. Are their any datafield types that are problemmatic and why? Will there be any null values you will have to impute and how do you intend to do so? Finally, for your numeric and categorical features, what if any, additional preprocessing steps will you take on those data elements?"
   ]
  },
  {
   "cell_type": "markdown",
   "metadata": {},
   "source": [
    "To preprocess the data, we need to first remove labels from features. Then, we also need to differentiate categorical and numeric features in order to process each type separately. We will normalize numeric features and one-hot encode categorical features that do not have obvious ordial meanings. In the end, separate the dataset into training and test sets. The sick variable is of type boolean, while others are all of type int or float; therefore, we will need to fix this field by converting booleans to 0 and 1. There will be not be any null values that I need to impute. <br><br>\n",
    "Numeric features:\n",
    "<ul>\n",
    "    <li><b>age:</b> Age in years</li>\n",
    "    <li><b>trestbps:</b> Resting blood pressure (in mm Hg on admission to the hospital)</li>\n",
    "    <li><b>cholserum:</b> Cholestoral in mg/dl</li>\n",
    "    <li><b>thalach:</b> Maximum heart rate achieved</li> \n",
    "    <li><b>oldpeakST:</b> Depression induced by exercise relative to rest</li>\n",
    "    <li><b>ca:</b> Number of major vessels (0-3) colored by flourosopy</li>\n",
    "</ul>\n",
    "Categorical features:\n",
    "<ul>\n",
    "    <li>One Hot Encode: </li>\n",
    "    <ul>\n",
    "        <li><b>sex:</b> (1 = male; 0 = female)</li>\n",
    "        <li><b>cp:</b> Chest pain type (0 = asymptomatic; 1 = atypical angina; 2 = non-anginal pain; 3 = typical angina)</li>\n",
    "        <li><b>restecg:</b> Resting electrocardiographic results (0= showing probable or definite left ventricular hypertrophy by Estes' criteria; 1 = normal; 2 = having ST-T wave abnormality (T wave inversions and/or ST elevation or depression of > 0.05 mV))</li>\n",
    "        <li><b>slope:</b> The slope of the peak exercise ST segment (0 = downsloping; 1 = flat; 2 = upsloping)</li>\n",
    "        <li><b>thal:</b> 1 = normal; 2 = fixed defect; 7 = reversable defect</li>\n",
    "    </ul>\n",
    "    <li>No need to one hot encode: </li>\n",
    "    <ul>\n",
    "        <li><b>fbs</b> Fasting blood sugar > 120 mg/dl (1 = true; 0 = false)\n",
    "    </li>\n",
    "        <li><b>exang:</b> Exercise induced angina (1 = yes; 0 = no)</li>\n",
    "    </ul>\n",
    "    <li><b>sick:</b> Indicates the presence of Heart disease (True = Disease; False = No disease)</li>\n",
    "</ul>"
   ]
  },
  {
   "cell_type": "markdown",
   "metadata": {},
   "source": [
    "### Question 1.3  Before we begin our analysis we need to fix the field(s) that will be problematic. Specifically convert our boolean sick variable into a binary numeric target variable (values of either '0' or '1'), and then drop the original sick datafield from the dataframe."
   ]
  },
  {
   "cell_type": "code",
   "execution_count": 753,
   "metadata": {},
   "outputs": [
    {
     "data": {
      "text/html": [
       "<div>\n",
       "<style scoped>\n",
       "    .dataframe tbody tr th:only-of-type {\n",
       "        vertical-align: middle;\n",
       "    }\n",
       "\n",
       "    .dataframe tbody tr th {\n",
       "        vertical-align: top;\n",
       "    }\n",
       "\n",
       "    .dataframe thead th {\n",
       "        text-align: right;\n",
       "    }\n",
       "</style>\n",
       "<table border=\"1\" class=\"dataframe\">\n",
       "  <thead>\n",
       "    <tr style=\"text-align: right;\">\n",
       "      <th></th>\n",
       "      <th>age</th>\n",
       "      <th>sex</th>\n",
       "      <th>cp</th>\n",
       "      <th>trestbps</th>\n",
       "      <th>chol</th>\n",
       "      <th>fbs</th>\n",
       "      <th>restecg</th>\n",
       "      <th>thalach</th>\n",
       "      <th>exang</th>\n",
       "      <th>oldpeak</th>\n",
       "      <th>slope</th>\n",
       "      <th>ca</th>\n",
       "      <th>thal</th>\n",
       "    </tr>\n",
       "  </thead>\n",
       "  <tbody>\n",
       "    <tr>\n",
       "      <th>0</th>\n",
       "      <td>63</td>\n",
       "      <td>1</td>\n",
       "      <td>3</td>\n",
       "      <td>145</td>\n",
       "      <td>233</td>\n",
       "      <td>1</td>\n",
       "      <td>0</td>\n",
       "      <td>150</td>\n",
       "      <td>0</td>\n",
       "      <td>2.3</td>\n",
       "      <td>0</td>\n",
       "      <td>0</td>\n",
       "      <td>1</td>\n",
       "    </tr>\n",
       "    <tr>\n",
       "      <th>1</th>\n",
       "      <td>37</td>\n",
       "      <td>1</td>\n",
       "      <td>2</td>\n",
       "      <td>130</td>\n",
       "      <td>250</td>\n",
       "      <td>0</td>\n",
       "      <td>1</td>\n",
       "      <td>187</td>\n",
       "      <td>0</td>\n",
       "      <td>3.5</td>\n",
       "      <td>0</td>\n",
       "      <td>0</td>\n",
       "      <td>2</td>\n",
       "    </tr>\n",
       "    <tr>\n",
       "      <th>2</th>\n",
       "      <td>41</td>\n",
       "      <td>0</td>\n",
       "      <td>1</td>\n",
       "      <td>130</td>\n",
       "      <td>204</td>\n",
       "      <td>0</td>\n",
       "      <td>0</td>\n",
       "      <td>172</td>\n",
       "      <td>0</td>\n",
       "      <td>1.4</td>\n",
       "      <td>2</td>\n",
       "      <td>0</td>\n",
       "      <td>2</td>\n",
       "    </tr>\n",
       "    <tr>\n",
       "      <th>3</th>\n",
       "      <td>56</td>\n",
       "      <td>1</td>\n",
       "      <td>1</td>\n",
       "      <td>120</td>\n",
       "      <td>236</td>\n",
       "      <td>0</td>\n",
       "      <td>1</td>\n",
       "      <td>178</td>\n",
       "      <td>0</td>\n",
       "      <td>0.8</td>\n",
       "      <td>2</td>\n",
       "      <td>0</td>\n",
       "      <td>2</td>\n",
       "    </tr>\n",
       "    <tr>\n",
       "      <th>4</th>\n",
       "      <td>57</td>\n",
       "      <td>0</td>\n",
       "      <td>0</td>\n",
       "      <td>120</td>\n",
       "      <td>354</td>\n",
       "      <td>0</td>\n",
       "      <td>1</td>\n",
       "      <td>163</td>\n",
       "      <td>1</td>\n",
       "      <td>0.6</td>\n",
       "      <td>2</td>\n",
       "      <td>0</td>\n",
       "      <td>2</td>\n",
       "    </tr>\n",
       "  </tbody>\n",
       "</table>\n",
       "</div>"
      ],
      "text/plain": [
       "   age  sex  cp  trestbps  chol  fbs  restecg  thalach  exang  oldpeak  slope  \\\n",
       "0   63    1   3       145   233    1        0      150      0      2.3      0   \n",
       "1   37    1   2       130   250    0        1      187      0      3.5      0   \n",
       "2   41    0   1       130   204    0        0      172      0      1.4      2   \n",
       "3   56    1   1       120   236    0        1      178      0      0.8      2   \n",
       "4   57    0   0       120   354    0        1      163      1      0.6      2   \n",
       "\n",
       "   ca  thal  \n",
       "0   0     1  \n",
       "1   0     2  \n",
       "2   0     2  \n",
       "3   0     2  \n",
       "4   0     2  "
      ]
     },
     "execution_count": 753,
     "metadata": {},
     "output_type": "execute_result"
    }
   ],
   "source": [
    "sick = heartdisease[\"sick\"].copy()\n",
    "sick_list = []\n",
    "for i in sick:\n",
    "    if i is False:\n",
    "        sick_list.append(0)\n",
    "    else:\n",
    "        sick_list.append(1)\n",
    "heartdisease[\"sick\"] = sick_list\n",
    "heartdisease.head().iloc[:, :13]  # first 13 columns"
   ]
  },
  {
   "cell_type": "markdown",
   "metadata": {},
   "source": [
    "### Question 1.4 Now that we have a feel for the data-types for each of the variables, plot histograms of each field and attempt to ascertain how each variable performs (is it a binary, or limited selection, or does it follow a gradient? (Note: No need to describe each variable, but pick out a few you wish to highlight)"
   ]
  },
  {
   "cell_type": "markdown",
   "metadata": {},
   "source": [
    "### Numeric features"
   ]
  },
  {
   "cell_type": "code",
   "execution_count": 754,
   "metadata": {},
   "outputs": [
    {
     "data": {
      "image/png": "[encoded data removed]",
      "text/plain": [
       "<matplotlib.figure.Figure at 0x122f40f60>"
      ]
     },
     "metadata": {},
     "output_type": "display_data"
    }
   ],
   "source": [
    "heartdisease[\"age\"].hist(bins=20)\n",
    "plt.xticks(np.arange(min(heartdisease[\"age\"]), max(heartdisease[\"age\"])+5, 5))\n",
    "plt.show()"
   ]
  },
  {
   "cell_type": "code",
   "execution_count": 755,
   "metadata": {},
   "outputs": [
    {
     "data": {
      "image/png": "[encoded data removed]",
      "text/plain": [
       "<matplotlib.figure.Figure at 0x122fa2f28>"
      ]
     },
     "metadata": {},
     "output_type": "display_data"
    }
   ],
   "source": [
    "heartdisease[\"trestbps\"].hist(bins=20)\n",
    "plt.show()"
   ]
  },
  {
   "cell_type": "code",
   "execution_count": 756,
   "metadata": {},
   "outputs": [
    {
     "data": {
      "image/png": "[encoded data removed]",
      "text/plain": [
       "<matplotlib.figure.Figure at 0x11e5861d0>"
      ]
     },
     "metadata": {},
     "output_type": "display_data"
    }
   ],
   "source": [
    "heartdisease[\"chol\"].hist(bins=20)\n",
    "plt.show()"
   ]
  },
  {
   "cell_type": "code",
   "execution_count": 757,
   "metadata": {},
   "outputs": [
    {
     "data": {
      "image/png": "[encoded data removed]",
      "text/plain": [
       "<matplotlib.figure.Figure at 0x12311a9b0>"
      ]
     },
     "metadata": {},
     "output_type": "display_data"
    }
   ],
   "source": [
    "heartdisease[\"thalach\"].hist(bins=20)\n",
    "plt.show()"
   ]
  },
  {
   "cell_type": "markdown",
   "metadata": {},
   "source": [
    "The maximum heart rate achieved is a left-skewed distribution with most of its values concentrated at the range from 150-170 bps. "
   ]
  },
  {
   "cell_type": "code",
   "execution_count": 758,
   "metadata": {},
   "outputs": [
    {
     "data": {
      "image/png": "[encoded data removed]",
      "text/plain": [
       "<matplotlib.figure.Figure at 0x11e1422e8>"
      ]
     },
     "metadata": {},
     "output_type": "display_data"
    }
   ],
   "source": [
    "heartdisease[\"oldpeak\"].hist(bins=30)\n",
    "plt.show()"
   ]
  },
  {
   "cell_type": "markdown",
   "metadata": {},
   "source": [
    "Depression induced by exercise relative to rest is a numeric feature that is highly right-skewed."
   ]
  },
  {
   "cell_type": "markdown",
   "metadata": {},
   "source": [
    "### Categorical Features"
   ]
  },
  {
   "cell_type": "markdown",
   "metadata": {},
   "source": [
    "Give both histogram and bar plots."
   ]
  },
  {
   "cell_type": "code",
   "execution_count": 759,
   "metadata": {},
   "outputs": [
    {
     "data": {
      "image/png": "[encoded data removed]",
      "text/plain": [
       "<matplotlib.figure.Figure at 0x122fa2320>"
      ]
     },
     "metadata": {},
     "output_type": "display_data"
    },
    {
     "data": {
      "image/png": "[encoded data removed]",
      "text/plain": [
       "<matplotlib.figure.Figure at 0x11f95f240>"
      ]
     },
     "metadata": {},
     "output_type": "display_data"
    }
   ],
   "source": [
    "heartdisease[\"sex\"].hist()\n",
    "plt.ylabel(\"Number of patients\")\n",
    "plt.xlabel(\"Sex\")\n",
    "plt.show()\n",
    "\n",
    "heartdisease[\"sex\"].value_counts().plot.bar()\n",
    "plt.ylabel(\"Number of patients\")\n",
    "plt.xlabel(\"Sex\")\n",
    "plt.xticks([0,1], [\"Male\", \"Female\"])\n",
    "plt.show()"
   ]
  },
  {
   "cell_type": "code",
   "execution_count": 760,
   "metadata": {},
   "outputs": [
    {
     "data": {
      "image/png": "[encoded data removed]",
      "text/plain": [
       "<matplotlib.figure.Figure at 0x1231b3198>"
      ]
     },
     "metadata": {},
     "output_type": "display_data"
    },
    {
     "data": {
      "image/png": "[encoded data removed]",
      "text/plain": [
       "<matplotlib.figure.Figure at 0x1231a20b8>"
      ]
     },
     "metadata": {},
     "output_type": "display_data"
    },
    {
     "data": {
      "text/plain": [
       "0    143\n",
       "2     87\n",
       "1     50\n",
       "3     23\n",
       "Name: cp, dtype: int64"
      ]
     },
     "execution_count": 760,
     "metadata": {},
     "output_type": "execute_result"
    }
   ],
   "source": [
    "heartdisease[\"cp\"].hist()\n",
    "plt.ylabel(\"Number of patients\")\n",
    "plt.xlabel(\"Chest pain type\")\n",
    "plt.show()\n",
    "\n",
    "heartdisease[\"cp\"].value_counts().plot.bar()\n",
    "plt.ylabel(\"Number of patients\")\n",
    "plt.xlabel(\"Chest pain type\")\n",
    "plt.xticks([0,2,1,3], [\"asymptomatic\", \"atypical angina\", \"non-anginal pain\", \"typical angina\"]) \n",
    "#0 = asymptomatic; 1 = atypical angina; 2 = non-anginal pain; 3 = typical angina\n",
    "plt.show()\n",
    "heartdisease[\"cp\"].value_counts()"
   ]
  },
  {
   "cell_type": "markdown",
   "metadata": {},
   "source": [
    "The values of chest pain type has a limited selection from 0:asymptomatic, 1:atypical angina, 2:non-anginal pain, and 3:typical angina. Most patients are asymptomatic. There are more patients who feel non-anginal pain than those who feel atypical angina. There are least patients who feel typical angina. "
   ]
  },
  {
   "cell_type": "code",
   "execution_count": 761,
   "metadata": {},
   "outputs": [
    {
     "data": {
      "image/png": "[encoded data removed]",
      "text/plain": [
       "<matplotlib.figure.Figure at 0x122fa2b38>"
      ]
     },
     "metadata": {},
     "output_type": "display_data"
    },
    {
     "data": {
      "image/png": "[encoded data removed]",
      "text/plain": [
       "<matplotlib.figure.Figure at 0x122f25710>"
      ]
     },
     "metadata": {},
     "output_type": "display_data"
    },
    {
     "data": {
      "text/plain": [
       "0    258\n",
       "1     45\n",
       "Name: fbs, dtype: int64"
      ]
     },
     "execution_count": 761,
     "metadata": {},
     "output_type": "execute_result"
    }
   ],
   "source": [
    "heartdisease[\"fbs\"].hist()\n",
    "plt.ylabel(\"Number of patients\")\n",
    "plt.xlabel(\"Fasting blood sugar\")\n",
    "plt.show()\n",
    "\n",
    "heartdisease[\"fbs\"].value_counts().plot.bar()\n",
    "plt.ylabel(\"Number of patients\")\n",
    "plt.xlabel(\"Fasting blood sugar\")\n",
    "plt.xticks([0,1], [\"<=120mg/dl\", \">120mg/dl\"], rotation='horizontal')\n",
    "#Fasting blood sugar > 120 mg/dl (1 = true; 0 = false)\n",
    "plt.show()\n",
    "heartdisease[\"fbs\"].value_counts()"
   ]
  },
  {
   "cell_type": "code",
   "execution_count": 762,
   "metadata": {},
   "outputs": [
    {
     "data": {
      "image/png": "[encoded data removed]",
      "text/plain": [
       "<matplotlib.figure.Figure at 0x122d90748>"
      ]
     },
     "metadata": {},
     "output_type": "display_data"
    },
    {
     "data": {
      "image/png": "[encoded data removed]",
      "text/plain": [
       "<matplotlib.figure.Figure at 0x11e8118d0>"
      ]
     },
     "metadata": {},
     "output_type": "display_data"
    },
    {
     "data": {
      "text/plain": [
       "1    152\n",
       "0    147\n",
       "2      4\n",
       "Name: restecg, dtype: int64"
      ]
     },
     "execution_count": 762,
     "metadata": {},
     "output_type": "execute_result"
    }
   ],
   "source": [
    "heartdisease[\"restecg\"].hist()\n",
    "plt.ylabel(\"Number of patients\")\n",
    "plt.xlabel(\"Resting electrocardiographic results\")\n",
    "plt.show()\n",
    "\n",
    "heartdisease[\"restecg\"].value_counts().plot.bar()\n",
    "plt.ylabel(\"Number of patients\")\n",
    "plt.xlabel(\"Resting electrocardiographic results\")\n",
    "plt.xticks([0,1,2], [\"left ventricular hypertrophy\", \"normal\", \"having ST-T wave abnormality\"])\n",
    "#0= showing probable or definite left ventricular hypertrophy by Estes' criteria; 1 = normal; 2 = having ST-T wave abnormality \n",
    "plt.show()\n",
    "heartdisease[\"restecg\"].value_counts()"
   ]
  },
  {
   "cell_type": "code",
   "execution_count": 763,
   "metadata": {},
   "outputs": [
    {
     "data": {
      "image/png": "[encoded data removed]",
      "text/plain": [
       "<matplotlib.figure.Figure at 0x121e3b668>"
      ]
     },
     "metadata": {},
     "output_type": "display_data"
    },
    {
     "data": {
      "image/png": "[encoded data removed]",
      "text/plain": [
       "<matplotlib.figure.Figure at 0x12209b080>"
      ]
     },
     "metadata": {},
     "output_type": "display_data"
    },
    {
     "data": {
      "text/plain": [
       "0    204\n",
       "1     99\n",
       "Name: exang, dtype: int64"
      ]
     },
     "execution_count": 763,
     "metadata": {},
     "output_type": "execute_result"
    }
   ],
   "source": [
    "heartdisease[\"exang\"].hist()\n",
    "plt.ylabel(\"Number of patients\")\n",
    "plt.xlabel(\"Exercise induced angina\")\n",
    "plt.show()\n",
    "heartdisease[\"exang\"].value_counts().plot.bar()\n",
    "plt.ylabel(\"Number of patients\")\n",
    "plt.xlabel(\"Exercise induced angina\")\n",
    "plt.xticks([0,1], [\"No\", \"Yes\"])\n",
    "# Exercise induced angina (1 = yes; 0 = no)\n",
    "plt.show()\n",
    "heartdisease[\"exang\"].value_counts()"
   ]
  },
  {
   "cell_type": "markdown",
   "metadata": {},
   "source": [
    "The execise induced angina is a binary variable. There are almost 1/3 of the diseases related to exercising."
   ]
  },
  {
   "cell_type": "code",
   "execution_count": 764,
   "metadata": {},
   "outputs": [
    {
     "data": {
      "image/png": "[encoded data removed]",
      "text/plain": [
       "<matplotlib.figure.Figure at 0x11e81a438>"
      ]
     },
     "metadata": {},
     "output_type": "display_data"
    },
    {
     "data": {
      "image/png": "[encoded data removed]",
      "text/plain": [
       "<matplotlib.figure.Figure at 0x122bf61d0>"
      ]
     },
     "metadata": {},
     "output_type": "display_data"
    },
    {
     "data": {
      "text/plain": [
       "2    142\n",
       "1    140\n",
       "0     21\n",
       "Name: slope, dtype: int64"
      ]
     },
     "execution_count": 764,
     "metadata": {},
     "output_type": "execute_result"
    }
   ],
   "source": [
    "heartdisease[\"slope\"].hist()\n",
    "plt.ylabel(\"Number of patients\")\n",
    "plt.xlabel(\"slope of the peak exercise ST segment\")\n",
    "plt.show()\n",
    "\n",
    "heartdisease[\"slope\"].value_counts().plot.bar()\n",
    "plt.ylabel(\"Number of patients\")\n",
    "plt.xlabel(\"slope of the peak exercise ST segment\")\n",
    "plt.xticks([2,1,0], [\"downsloping\", \"flat\", \"upsloping\"])\n",
    "# slope of the peak exercise ST segment (0 = downsloping; 1 = flat; 2 = upsloping)\n",
    "plt.show()\n",
    "heartdisease[\"slope\"].value_counts()"
   ]
  },
  {
   "cell_type": "code",
   "execution_count": 765,
   "metadata": {},
   "outputs": [
    {
     "data": {
      "image/png": "[encoded data removed]",
      "text/plain": [
       "<matplotlib.figure.Figure at 0x12310c048>"
      ]
     },
     "metadata": {},
     "output_type": "display_data"
    },
    {
     "data": {
      "image/png": "[encoded data removed]",
      "text/plain": [
       "<matplotlib.figure.Figure at 0x1231bbb70>"
      ]
     },
     "metadata": {},
     "output_type": "display_data"
    },
    {
     "data": {
      "text/plain": [
       "2    166\n",
       "3    117\n",
       "1     18\n",
       "0      2\n",
       "Name: thal, dtype: int64"
      ]
     },
     "execution_count": 765,
     "metadata": {},
     "output_type": "execute_result"
    }
   ],
   "source": [
    "heartdisease[\"thal\"].hist()\n",
    "plt.ylabel(\"Number of patients\")\n",
    "plt.xlabel(\"thal\")\n",
    "plt.show()\n",
    "\n",
    "heartdisease[\"thal\"].value_counts().plot.bar()\n",
    "plt.ylabel(\"Number of patients\")\n",
    "plt.xlabel(\"thal\")\n",
    "plt.show()\n",
    "heartdisease[\"thal\"].value_counts()"
   ]
  },
  {
   "cell_type": "code",
   "execution_count": 766,
   "metadata": {},
   "outputs": [
    {
     "data": {
      "image/png": "[encoded data removed]",
      "text/plain": [
       "<matplotlib.figure.Figure at 0x121e0aa58>"
      ]
     },
     "metadata": {},
     "output_type": "display_data"
    },
    {
     "data": {
      "image/png": "[encoded data removed]",
      "text/plain": [
       "<matplotlib.figure.Figure at 0x122b6c0f0>"
      ]
     },
     "metadata": {},
     "output_type": "display_data"
    },
    {
     "data": {
      "text/plain": [
       "0    165\n",
       "1    138\n",
       "Name: sick, dtype: int64"
      ]
     },
     "execution_count": 766,
     "metadata": {},
     "output_type": "execute_result"
    }
   ],
   "source": [
    "heartdisease[\"sick\"].hist()\n",
    "plt.ylabel(\"Number of patients\")\n",
    "plt.xlabel(\"Presence of disease\")\n",
    "plt.show()\n",
    "\n",
    "heartdisease[\"sick\"].value_counts().plot.bar()\n",
    "plt.ylabel(\"Number of patients\")\n",
    "plt.xlabel(\"Presence of disease\")\n",
    "plt.xticks([1,0], [\"Yes\", \"No\"])\n",
    "plt.show()\n",
    "heartdisease[\"sick\"].value_counts()"
   ]
  },
  {
   "cell_type": "markdown",
   "metadata": {},
   "source": [
    "### Question 1.5 We also want to make sure we are dealing with a balanced dataset. In this case, we want to confirm whether or not we have an equitable number of  sick and healthy individuals to ensure that our classifier will have a sufficiently balanced dataset to adequately classify the two. Plot a histogram specifically of the sick target, and conduct a count of the number of sick and healthy individuals and report on the results: "
   ]
  },
  {
   "cell_type": "code",
   "execution_count": 767,
   "metadata": {},
   "outputs": [
    {
     "data": {
      "image/png": "[encoded data removed]",
      "text/plain": [
       "<matplotlib.figure.Figure at 0x12311f0f0>"
      ]
     },
     "metadata": {},
     "output_type": "display_data"
    },
    {
     "data": {
      "image/png": "[encoded data removed]",
      "text/plain": [
       "<matplotlib.figure.Figure at 0x122bd7358>"
      ]
     },
     "metadata": {},
     "output_type": "display_data"
    },
    {
     "data": {
      "text/plain": [
       "0    165\n",
       "1    138\n",
       "Name: sick, dtype: int64"
      ]
     },
     "execution_count": 767,
     "metadata": {},
     "output_type": "execute_result"
    }
   ],
   "source": [
    "heartdisease[\"sick\"].hist()\n",
    "plt.ylabel(\"Number of patients\")\n",
    "plt.xlabel(\"Presence of disease\")\n",
    "plt.show()\n",
    "\n",
    "heartdisease[\"sick\"].value_counts().plot.bar()\n",
    "plt.ylabel(\"Number of patients\")\n",
    "plt.xlabel(\"Presence of disease\")\n",
    "plt.xticks([1,0], [\"Yes\", \"No\"])\n",
    "plt.show()\n",
    "heartdisease[\"sick\"].value_counts()"
   ]
  },
  {
   "cell_type": "markdown",
   "metadata": {},
   "source": [
    "We do not have an equitable number of sick and healthy individuals. There are 165 healthy individuals and 138 sick individuals, or 54.46% of the samples are healthy and 45.44% of the samples are sick. I don't think that in this case the skew is severe enough to cause bias in the classifier."
   ]
  },
  {
   "cell_type": "markdown",
   "metadata": {},
   "source": [
    "### Question  1.6 Balanced datasets are important to ensure that classifiers train adequately and don't overfit, however arbitrary balancing of a dataset might introduce its own issues. Discuss some of the problems that might arise by artificially balancing a dataset."
   ]
  },
  {
   "cell_type": "markdown",
   "metadata": {},
   "source": [
    "If we scale down the larger sample, we will disregarded data arbitrarily. It is possible that the dataset loses useful information which might affect how the classifier will be built. Even if the sample is chosen randomly, it could still be biased. Data augmentation of rows could also introduce bias when the distribution of the data is not clear. "
   ]
  },
  {
   "cell_type": "markdown",
   "metadata": {},
   "source": [
    "### Question 1.9 Now that we have our dataframe prepared let's start analyzing our data. For this next question let's look at the correlations of our variables to our target value. First, map out the correlations between the values, and then discuss the relationships you observe. Do some research on the variables to understand why they may relate to the observed corellations. Intuitively, why do you think some variables correlate more highly than others (hint: one possible approach you can use the sns heatmap function to map the corr() method)?"
   ]
  },
  {
   "cell_type": "code",
   "execution_count": 768,
   "metadata": {},
   "outputs": [
    {
     "data": {
      "text/plain": [
       "cp         -0.433798\n",
       "thalach    -0.421741\n",
       "slope      -0.345877\n",
       "restecg    -0.137230\n",
       "fbs         0.028046\n",
       "chol        0.085239\n",
       "trestbps    0.144931\n",
       "age         0.225439\n",
       "sex         0.280937\n",
       "thal        0.344029\n",
       "ca          0.391724\n",
       "oldpeak     0.430696\n",
       "exang       0.436757\n",
       "sick        1.000000\n",
       "Name: sick, dtype: float64"
      ]
     },
     "execution_count": 768,
     "metadata": {},
     "output_type": "execute_result"
    },
    {
     "data": {
      "image/png": "[encoded data removed]",
      "text/plain": [
       "<matplotlib.figure.Figure at 0x11e118438>"
      ]
     },
     "metadata": {},
     "output_type": "display_data"
    }
   ],
   "source": [
    "from pandas.plotting import scatter_matrix\n",
    "\n",
    "corr_matrix_heartdisease = heartdisease.corr()\n",
    "ax = sns.heatmap(corr_matrix_heartdisease, vmin=-0.5, vmax=0.5)\n",
    "corr_matrix_heartdisease[\"sick\"].sort_values()"
   ]
  },
  {
   "cell_type": "markdown",
   "metadata": {},
   "source": [
    "Features that most positively correlated to the presence of disease: \n",
    "(showing light color in the heatmap)\n",
    "- exang: exercise relates to angina because muscles consume oxygen during exercise, causing insufficient oxygen-rick blood flow into the heart. It is reasonable that the presense of heart disease is correlated to the angina induced by exercise. It is one of the most common reasons that could cause heart disease. \n",
    "- oldpeak: ST depression is the main indicator of myocardial ischaemia. ST depression is often seen in patients with unstable angina. Therefore, it is reasonable that we see a positive correlation between ST segment depression and the presense of heart disease.\n",
    "- ca: coloring major vessels by flourosopy is a diagnosis method for heart disease. Most patients with heart disease will have 1-3 vessels colored by flourosopy. Most healthy individuals are supposed to have no vessels colored by flouroscopy. As a method of diagonizing heart disease, it is reasonable that we see a positive correlation between ST segment depression and the presense of heart disease.\n",
    "\n",
    "Features that most negatively correlated to the presence of disease:\n",
    "(showing dark color in the heatmap)\n",
    "- cp: 0 indicates asymptomatic patients while 1-3 indicate angina of different types. The presense of heart disease is negatively related to the chest pain type, indicating that most patients with the disease actually have asymptomatic angina.  \n",
    "- thalach: Patients with heart disease reach a lower maximum heart rate than those without heart disease. Heart disease weakens the ability of the patient's heart to pump blood as actively as normal people. Therefore, patients with heart disease in general could not reach the maximum heart rate as non-patients.\n",
    "- slope: Downsloping(0) and flat(1) ST segments indicate the presence of heart disease, while upsloping(1) ST segments indicate that heart disease is not present. "
   ]
  },
  {
   "cell_type": "markdown",
   "metadata": {},
   "source": [
    "## [30 Points] Part 2. Prepare the Data "
   ]
  },
  {
   "cell_type": "markdown",
   "metadata": {},
   "source": [
    "Before running our various learning methods, we need to do some additional prep to finalize our data. Specifically you'll have to cut the classification target from the data that will be used to classify, and then you'll have to divide the dataset into training and testing cohorts.\n",
    "\n",
    "Specifically, we're going to ask you to prepare 2 batches of data: 1. Will simply be the raw numeric data that hasn't gone through any additional pre-processing. The other, will be data that you pipeline using your own selected methods. We will then feed both of these datasets into a classifier to showcase just how important this step can be!"
   ]
  },
  {
   "cell_type": "markdown",
   "metadata": {},
   "source": [
    "### Question 2.1 Save the target column as a separate array and then drop it from the dataframe. "
   ]
  },
  {
   "cell_type": "code",
   "execution_count": 769,
   "metadata": {},
   "outputs": [],
   "source": [
    "hd_labels = heartdisease[\"sick\"].copy()\n",
    "heartdisease = heartdisease.drop(\"sick\", axis=1)"
   ]
  },
  {
   "cell_type": "markdown",
   "metadata": {},
   "source": [
    "### Question 2.2 First Create your 'Raw' unprocessed training data by dividing your dataframe into training and testing cohorts, with your training cohort consisting of 70% of your total dataframe (hint: use the train_test_split method) Output the resulting shapes of your training and testing samples to confirm that your split was successful."
   ]
  },
  {
   "cell_type": "code",
   "execution_count": 770,
   "metadata": {},
   "outputs": [],
   "source": [
    "X_train, X_test, y_train, y_test = train_test_split(heartdisease, hd_labels, test_size=0.3)"
   ]
  },
  {
   "cell_type": "code",
   "execution_count": 771,
   "metadata": {},
   "outputs": [
    {
     "data": {
      "text/plain": [
       "(212, 13)"
      ]
     },
     "execution_count": 771,
     "metadata": {},
     "output_type": "execute_result"
    }
   ],
   "source": [
    "X_train = X_train.to_numpy()\n",
    "X_train.shape"
   ]
  },
  {
   "cell_type": "code",
   "execution_count": 772,
   "metadata": {},
   "outputs": [
    {
     "data": {
      "text/plain": [
       "(91, 13)"
      ]
     },
     "execution_count": 772,
     "metadata": {},
     "output_type": "execute_result"
    }
   ],
   "source": [
    "X_test = X_test.to_numpy()\n",
    "X_test.shape"
   ]
  },
  {
   "cell_type": "code",
   "execution_count": 773,
   "metadata": {},
   "outputs": [
    {
     "data": {
      "text/plain": [
       "(212,)"
      ]
     },
     "execution_count": 773,
     "metadata": {},
     "output_type": "execute_result"
    }
   ],
   "source": [
    "y_train.shape"
   ]
  },
  {
   "cell_type": "code",
   "execution_count": 774,
   "metadata": {},
   "outputs": [
    {
     "data": {
      "text/plain": [
       "(91,)"
      ]
     },
     "execution_count": 774,
     "metadata": {},
     "output_type": "execute_result"
    }
   ],
   "source": [
    "y_test.shape"
   ]
  },
  {
   "cell_type": "markdown",
   "metadata": {},
   "source": [
    "### Question 2.3 Now create a pipeline to conduct any additional preparation of the data you would like. Output the resulting array to ensure it was processed correctly."
   ]
  },
  {
   "cell_type": "code",
   "execution_count": 775,
   "metadata": {},
   "outputs": [
    {
     "data": {
      "text/plain": [
       "array([[ 0.9521966 ,  0.76395577, -0.25633371, ...,  1.        ,\n",
       "         0.        ,  0.        ],\n",
       "       [-1.91531289, -0.09273778,  0.07219949, ...,  1.        ,\n",
       "         0.        ,  0.        ],\n",
       "       [-1.47415758, -0.09273778, -0.81677269, ...,  0.        ,\n",
       "         0.        ,  1.        ],\n",
       "       ...,\n",
       "       [ 1.50364073,  0.70684287, -1.029353  , ...,  0.        ,\n",
       "         1.        ,  0.        ],\n",
       "       [ 0.29046364, -0.09273778, -2.2275329 , ...,  0.        ,\n",
       "         1.        ,  0.        ],\n",
       "       [ 0.29046364, -0.09273778, -0.19835726, ...,  0.        ,\n",
       "         1.        ,  0.        ]])"
      ]
     },
     "execution_count": 775,
     "metadata": {},
     "output_type": "execute_result"
    }
   ],
   "source": [
    "from sklearn.compose import ColumnTransformer\n",
    "from sklearn.preprocessing import StandardScaler\n",
    "from sklearn.preprocessing import OneHotEncoder\n",
    "\n",
    "numerical_features = [\"age\", \"trestbps\", \"chol\", \"thalach\", \"oldpeak\", \"ca\"]\n",
    "categorical_features = [\"sex\", \"cp\", \"restecg\", \"thal\", \"slope\"]\n",
    "\n",
    "full_pipeline = ColumnTransformer([\n",
    "    (\"num\", StandardScaler(), numerical_features),\n",
    "    (\"cat\", OneHotEncoder(), categorical_features)\n",
    "])\n",
    "\n",
    "heartdisease_prepared = full_pipeline.fit_transform(heartdisease)\n",
    "heartdisease_prepared"
   ]
  },
  {
   "cell_type": "markdown",
   "metadata": {},
   "source": [
    "### Question 2.4 Now create a separate, processed training data set by dividing your processed dataframe into training and testing cohorts, using the same settings as Q2.2 (REMEMBER TO USE DIFFERENT TRAINING AND TESTING VARIABLES SO AS NOT TO OVERWRITE YOUR PREVIOUS DATA). Output the resulting shapes of your training and testing samples to confirm that your split was successful, and describe what differences there are between your two training datasets."
   ]
  },
  {
   "cell_type": "code",
   "execution_count": 776,
   "metadata": {},
   "outputs": [],
   "source": [
    "X_train_prep, X_test_prep, y_train_prep, y_test_prep = train_test_split(heartdisease_prepared, hd_labels, test_size=0.3)"
   ]
  },
  {
   "cell_type": "code",
   "execution_count": 777,
   "metadata": {},
   "outputs": [
    {
     "data": {
      "text/plain": [
       "(212, 22)"
      ]
     },
     "execution_count": 777,
     "metadata": {},
     "output_type": "execute_result"
    }
   ],
   "source": [
    "X_train_prep.shape"
   ]
  },
  {
   "cell_type": "code",
   "execution_count": 778,
   "metadata": {},
   "outputs": [
    {
     "data": {
      "text/plain": [
       "(91, 22)"
      ]
     },
     "execution_count": 778,
     "metadata": {},
     "output_type": "execute_result"
    }
   ],
   "source": [
    "X_test_prep.shape"
   ]
  },
  {
   "cell_type": "code",
   "execution_count": 779,
   "metadata": {},
   "outputs": [
    {
     "data": {
      "text/plain": [
       "(212,)"
      ]
     },
     "execution_count": 779,
     "metadata": {},
     "output_type": "execute_result"
    }
   ],
   "source": [
    "y_train_prep.shape"
   ]
  },
  {
   "cell_type": "code",
   "execution_count": 780,
   "metadata": {},
   "outputs": [
    {
     "data": {
      "text/plain": [
       "(91,)"
      ]
     },
     "execution_count": 780,
     "metadata": {},
     "output_type": "execute_result"
    }
   ],
   "source": [
    "y_test_prep.shape"
   ]
  },
  {
   "cell_type": "markdown",
   "metadata": {},
   "source": [
    "The two datasets are different because the processed datasets are normalized and the categorical features are one-hot-encoded. The features of the resulting datasets are of the same scale, which will increase the accuracy of the classifiers in the following section."
   ]
  },
  {
   "cell_type": "markdown",
   "metadata": {},
   "source": [
    "## [50 Points] Part 3. Learning Methods "
   ]
  },
  {
   "cell_type": "markdown",
   "metadata": {},
   "source": [
    "We're finally ready to actually begin classifying our data. To do so we'll employ multiple learning methods and compare result."
   ]
  },
  {
   "cell_type": "markdown",
   "metadata": {},
   "source": [
    "### Linear Decision Boundary Methods "
   ]
  },
  {
   "cell_type": "markdown",
   "metadata": {},
   "source": [
    "### SVM (Support Vector Machine)"
   ]
  },
  {
   "cell_type": "markdown",
   "metadata": {},
   "source": [
    "A Support Vector Machine (SVM) is a discriminative classifier formally defined by a separating hyperplane. In other words, given labeled training data (supervised learning), the algorithm outputs an optimal hyperplane which categorizes new examples. In two dimentional space this hyperplane is a line dividing a plane in two parts where in each class lay in either side."
   ]
  },
  {
   "cell_type": "markdown",
   "metadata": {},
   "source": [
    "### Question 3.1.1 Implement a Support Vector Machine classifier on your RAW dataset. Review the [SVM Documentation](https://scikit-learn.org/stable/modules/generated/sklearn.svm.SVC.html) for how to implement a model. For this implementation you can simply use the default settings, but set probability = True."
   ]
  },
  {
   "cell_type": "code",
   "execution_count": 781,
   "metadata": {},
   "outputs": [],
   "source": [
    "# SVM\n",
    "from sklearn.svm import SVC\n",
    "clf = SVC(probability=True)\n",
    "clf.fit(X_train, y_train)\n",
    "y_predict = clf.predict(X_test)\n",
    "score = clf.predict_proba(X_test)"
   ]
  },
  {
   "cell_type": "markdown",
   "metadata": {},
   "source": [
    "### Question 3.1.2 Report the accuracy, precision, recall, F1 Score, and confusion matrix of the resulting model."
   ]
  },
  {
   "cell_type": "code",
   "execution_count": 782,
   "metadata": {
    "scrolled": true
   },
   "outputs": [
    {
     "name": "stdout",
     "output_type": "stream",
     "text": [
      "Accuracy:    0.648352\n",
      "Precision:   0.680000\n",
      "Recall:      0.414634\n",
      "F1 Score:    0.515152\n"
     ]
    },
    {
     "data": {
      "image/png": "[encoded data removed]",
      "text/plain": [
       "<matplotlib.figure.Figure at 0x1231013c8>"
      ]
     },
     "metadata": {},
     "output_type": "display_data"
    }
   ],
   "source": [
    "print(\"%-12s %f\" % ('Accuracy:', metrics.accuracy_score(y_test, y_predict)))\n",
    "print(\"%-12s %f\" % ('Precision:', metrics.precision_score(y_test, y_predict)))\n",
    "print(\"%-12s %f\" % ('Recall:', metrics.recall_score(y_test, y_predict)))\n",
    "print(\"%-12s %f\" % ('F1 Score:', metrics.f1_score(y_test, y_predict)))\n",
    "draw_confusion_matrix(y_test, y_predict, ['Healthy', 'Sick'])"
   ]
  },
  {
   "cell_type": "markdown",
   "metadata": {},
   "source": [
    "### Question 3.1.3 Discuss what each measure is reporting, why they are different, and why are each of these measures is significant. Explore why we might choose to evaluate the performance of differing models differently based on these factors. Try to give some specific examples of scenarios in which you might value one of these measures over the others."
   ]
  },
  {
   "cell_type": "markdown",
   "metadata": {},
   "source": [
    "- Accuracy: (true positive + true negative) / (true positive + true negative + false positive + false negative). Accuracy focuses the fraction of correct predictions that we find. In the case of predicting whether a newborn baby is a boy or a girl, we would value the accuracy of the model. Neither predicting a girl as a boy nor predicting a boy as a girl is more acceptable than the other option. \n",
    "- Precision: (true positive) / (true positive + false positive). This relates directly to False Positives as a higher precision corresponds to a low rate of false positives. Type I error is when you reject a true null hypothesis, which is by convention false positives. Precision score measures how well the model is resistant from type I error. Precision is important in the case that we want to predict whether a treatment is effective in curing a disease. The null hypothesis is that the medicine does not cure the disease. A low-precision model would predict that the treatment cures the disease while in fact it does not. This would cause delay in diagnosis and treatment of the patient.\n",
    "- Recall: (true positive) / (true positive + false negative). Recall is the ratio of correctly predicted positive observations to the all observations in actual positive class. Recall score will be higher if we have lower occurrences of false negatives. Type II error is when you accept a false null hypothesis, which is by convention a false negatives. Recall score measures how well our model is resistant from type II error. Recall score is important in testing pregnancy. A null hypothesis is that a person is not pregnant. When a low-recall model predicts a person is not pregnant when she actually is, it would cause serious effects to the body of the patient. When the mother is not aware of her pregnancy and keeps her daily routine, it is possible that an accidental miscarriage would happen. \n",
    "- F1 score: (2 * (Recall * Precision) / (Recall + Precision)). F1 score takes into account both false positive and false negative. It is the weighted average of Precision and Recall and therefore takes both false positives and false negatives into account. F1 score is important when the false negatives and false nositives are both crucial. For example, a recommender system is trying to find the relevant products and filter out the irrelevant products. Neither a false positive (an irrelevant product classified as relevant) or a false negative (a relevant product classified as irrelevant) is desirable, and we want to a single score to measure the performance. We would use F1 score in this case."
   ]
  },
  {
   "cell_type": "markdown",
   "metadata": {},
   "source": [
    "### Question 3.1.4 Plot a Receiver Operating Characteristic curve, or ROC curve, and describe what it is and what the results indicate"
   ]
  },
  {
   "cell_type": "code",
   "execution_count": 783,
   "metadata": {},
   "outputs": [
    {
     "data": {
      "image/png": "[encoded data removed]",
      "text/plain": [
       "<matplotlib.figure.Figure at 0x121c90048>"
      ]
     },
     "metadata": {},
     "output_type": "display_data"
    }
   ],
   "source": [
    "fpr_svm, tpr_svm, thresholds = metrics.roc_curve(y_test, score[:, 1], pos_label=1)\n",
    "pyplot.figure(1)\n",
    "pyplot.plot(fpr_svm, tpr_svm, color='blue', lw=1)\n",
    "pyplot.xlabel('FPR')\n",
    "pyplot.ylabel('TPR')\n",
    "pyplot.show()"
   ]
  },
  {
   "cell_type": "markdown",
   "metadata": {},
   "source": [
    "ROC stands for receiver operating characteristics. ROC curve plots the true positive rate (TPR) against the false positive rate (FPR) at various threshold settings. The closer the curve is near the top-left corner, the more accurate the test. On the other hand, the closer the curve comes to the 45-degree diagonal of the ROC space, the less accurate the test. In the plot above, the ROC curve is close to the 45-degree diagonal, indicating that the model is not very accurate. "
   ]
  },
  {
   "cell_type": "markdown",
   "metadata": {},
   "source": [
    "### Question 3.1.5 Rerun, using the exact same settings, only this time use your processed data as inputs. "
   ]
  },
  {
   "cell_type": "code",
   "execution_count": 784,
   "metadata": {},
   "outputs": [
    {
     "name": "stdout",
     "output_type": "stream",
     "text": [
      "RBF SVM Time:  0.01651547197252512\n"
     ]
    }
   ],
   "source": [
    "# SVM\n",
    "import timeit\n",
    "start = timeit.default_timer()\n",
    "from sklearn.svm import SVC\n",
    "clf = SVC(probability=True)\n",
    "clf.fit(X_train_prep, y_train_prep)\n",
    "y_predict_prep = clf.predict(X_test_prep)\n",
    "score_prep = clf.predict_proba(X_test_prep)\n",
    "stop = timeit.default_timer()\n",
    "print('RBF SVM Time: ', stop - start)"
   ]
  },
  {
   "cell_type": "markdown",
   "metadata": {},
   "source": [
    "### Question 3.1.6 Report the accuracy, precision, recall, F1 Score, confusion matrix, and plot the ROC Curve of the resulting model."
   ]
  },
  {
   "cell_type": "code",
   "execution_count": 785,
   "metadata": {},
   "outputs": [
    {
     "name": "stdout",
     "output_type": "stream",
     "text": [
      "Accuracy:    0.868132\n",
      "Precision:   0.868421\n",
      "Recall:      0.825000\n",
      "F1 Score:    0.846154\n"
     ]
    },
    {
     "data": {
      "image/png": "[encoded data removed]",
      "text/plain": [
       "<matplotlib.figure.Figure at 0x122f085c0>"
      ]
     },
     "metadata": {},
     "output_type": "display_data"
    },
    {
     "data": {
      "image/png": "[encoded data removed]",
      "text/plain": [
       "<matplotlib.figure.Figure at 0x121c901d0>"
      ]
     },
     "metadata": {},
     "output_type": "display_data"
    }
   ],
   "source": [
    "print(\"%-12s %f\" % ('Accuracy:', metrics.accuracy_score(y_test_prep, y_predict_prep)))\n",
    "print(\"%-12s %f\" % ('Precision:', metrics.precision_score(y_test_prep, y_predict_prep)))\n",
    "print(\"%-12s %f\" % ('Recall:', metrics.recall_score(y_test_prep, y_predict_prep)))\n",
    "print(\"%-12s %f\" % ('F1 Score:', metrics.f1_score(y_test_prep, y_predict_prep)))\n",
    "draw_confusion_matrix(y_test_prep, y_predict_prep, ['Healthy', 'Sick'])\n",
    "\n",
    "fpr_svm, tpr_svm, thresholds = metrics.roc_curve(y_test_prep, score_prep[:, 1], pos_label=1)\n",
    "pyplot.figure(1)\n",
    "pyplot.plot(fpr_svm, tpr_svm, color='blue', lw=1)\n",
    "pyplot.xlabel('FPR')\n",
    "pyplot.ylabel('TPR')\n",
    "pyplot.show()"
   ]
  },
  {
   "cell_type": "markdown",
   "metadata": {},
   "source": [
    "### Question 3.1.7 Hopefully you've noticed a dramatic change in performance. Discuss why you think your new data has had such a dramatic impact. "
   ]
  },
  {
   "cell_type": "markdown",
   "metadata": {},
   "source": [
    "The performance has improved dramatically using the processed dataset. During the data processing, we have normalized the numeric features and thereby make the model scale-invariant. We have also one-hot encoded categorical features which are not binary and has concrete non-ordial meanings. The categorical features in the original dataset are already integer-encoded. However, integer encoding might cause the model to learn that there is some ordinal relation between each category while such relation does not exist. After normalization and one-hot-encoding, the accuracy of the model is improved. "
   ]
  },
  {
   "cell_type": "markdown",
   "metadata": {},
   "source": [
    "### Question 3.1.8 Rerun your SVM, but now modify your model parameter kernel to equal 'linear'. Again report your Accuracy, Precision, Recall, F1 scores, and Confusion matrix and plot the new ROC curve.  "
   ]
  },
  {
   "cell_type": "code",
   "execution_count": 786,
   "metadata": {},
   "outputs": [
    {
     "name": "stdout",
     "output_type": "stream",
     "text": [
      "Linear SVM Time:  0.0067757259821519256\n",
      "Accuracy:    0.857143\n",
      "Precision:   0.846154\n",
      "Recall:      0.825000\n",
      "F1 Score:    0.835443\n"
     ]
    },
    {
     "data": {
      "image/png": "[encoded data removed]",
      "text/plain": [
       "<matplotlib.figure.Figure at 0x1231fcd68>"
      ]
     },
     "metadata": {},
     "output_type": "display_data"
    },
    {
     "data": {
      "image/png": "[encoded data removed]",
      "text/plain": [
       "<matplotlib.figure.Figure at 0x12313a978>"
      ]
     },
     "metadata": {},
     "output_type": "display_data"
    }
   ],
   "source": [
    "# SVM\n",
    "start = timeit.default_timer()\n",
    "clf = SVC(probability=True, kernel='linear')\n",
    "clf.fit(X_train_prep, y_train_prep)\n",
    "y_predict_prep = clf.predict(X_test_prep)\n",
    "score_prep = clf.predict_proba(X_test_prep)\n",
    "stop = timeit.default_timer()\n",
    "print('Linear SVM Time: ', stop - start)\n",
    "\n",
    "print(\"%-12s %f\" % ('Accuracy:', metrics.accuracy_score(y_test_prep, y_predict_prep)))\n",
    "print(\"%-12s %f\" % ('Precision:', metrics.precision_score(y_test_prep, y_predict_prep)))\n",
    "print(\"%-12s %f\" % ('Recall:', metrics.recall_score(y_test_prep, y_predict_prep)))\n",
    "print(\"%-12s %f\" % ('F1 Score:', metrics.f1_score(y_test_prep, y_predict_prep)))\n",
    "draw_confusion_matrix(y_test_prep, y_predict_prep, ['Healthy', 'Sick'])\n",
    "\n",
    "fpr_svm, tpr_svm, thresholds = metrics.roc_curve(y_test_prep, score_prep[:, 1], pos_label=1)\n",
    "pyplot.figure(1)\n",
    "pyplot.plot(fpr_svm, tpr_svm, color='blue', lw=1)\n",
    "pyplot.xlabel('FPR')\n",
    "pyplot.ylabel('TPR')\n",
    "pyplot.show()"
   ]
  },
  {
   "cell_type": "markdown",
   "metadata": {},
   "source": [
    "### Question 3.1.9 Explain the what the new results you've achieved mean. Read the documentation to understand what you've changed about your model and explain why changing that input parameter might impact the results in the manner you've observed."
   ]
  },
  {
   "cell_type": "markdown",
   "metadata": {},
   "source": [
    "The new model is less accurate as the previous model. I have changed the kernel type from RBF/Gaussian to linear. The kernel function determines the method of finding the hyperplane or decision boundary. A linear SVM is used when the dataset is linearly separable. The advantage of using a linear kernel is that it is less time-consuming, but the accuracy, precision, recall, and f1 score will be lower."
   ]
  },
  {
   "cell_type": "markdown",
   "metadata": {},
   "source": [
    "### Logistic Regression"
   ]
  },
  {
   "cell_type": "markdown",
   "metadata": {},
   "source": [
    "Knowing that we're dealing with a linearly configured dataset, let's now try another classifier that's well known for handling linear models: Logistic Regression. Logistic regression is a statistical model that in its basic form uses a logistic function to model a binary dependent variable."
   ]
  },
  {
   "cell_type": "markdown",
   "metadata": {},
   "source": [
    "### Question 3.2.1 Implement a Logistical Regression Classifier. Review the [Logistical Regression Documentation](https://scikit-learn.org/stable/modules/generated/sklearn.linear_model.LogisticRegression.html) for how to implement the model. For this initial model set the solver = 'sag' and max_iter= 10). Report on the same four metrics as the SVM and graph the resulting ROC curve."
   ]
  },
  {
   "cell_type": "code",
   "execution_count": 787,
   "metadata": {},
   "outputs": [
    {
     "name": "stderr",
     "output_type": "stream",
     "text": [
      "/Library/Frameworks/Python.framework/Versions/3.5/lib/python3.5/site-packages/sklearn/linear_model/_sag.py:330: ConvergenceWarning: The max_iter was reached which means the coef_ did not converge\n",
      "  \"the coef_ did not converge\", ConvergenceWarning)\n"
     ]
    },
    {
     "name": "stdout",
     "output_type": "stream",
     "text": [
      "Accuracy:    0.879121\n",
      "Precision:   0.853659\n",
      "Recall:      0.875000\n",
      "F1 Score:    0.864198\n"
     ]
    },
    {
     "data": {
      "image/png": "[encoded data removed]",
      "text/plain": [
       "<matplotlib.figure.Figure at 0x1220f59b0>"
      ]
     },
     "metadata": {},
     "output_type": "display_data"
    },
    {
     "data": {
      "image/png": "[encoded data removed]",
      "text/plain": [
       "<matplotlib.figure.Figure at 0x122bc4438>"
      ]
     },
     "metadata": {},
     "output_type": "display_data"
    }
   ],
   "source": [
    "# Logistic Regression\n",
    "clf = LogisticRegression(solver='sag', max_iter=10).fit(X_train_prep, y_train_prep)\n",
    "y_predict_prep = clf.predict(X_test_prep)\n",
    "score = clf.predict_proba(X_test_prep)\n",
    "\n",
    "print(\"%-12s %f\" % ('Accuracy:', metrics.accuracy_score(y_test_prep, y_predict_prep)))\n",
    "print(\"%-12s %f\" % ('Precision:', metrics.precision_score(y_test_prep, y_predict_prep)))\n",
    "print(\"%-12s %f\" % ('Recall:', metrics.recall_score(y_test_prep, y_predict_prep)))\n",
    "print(\"%-12s %f\" % ('F1 Score:', metrics.f1_score(y_test_prep, y_predict_prep)))\n",
    "draw_confusion_matrix(y_test_prep, y_predict_prep, ['Healthy', 'Sick'])\n",
    "\n",
    "fpr_svm, tpr_svm, thresholds = metrics.roc_curve(y_test_prep, score_prep[:, 1], pos_label=1)\n",
    "pyplot.figure(1)\n",
    "pyplot.plot(fpr_svm, tpr_svm, color='blue', lw=1)\n",
    "pyplot.xlabel('FPR')\n",
    "pyplot.ylabel('TPR')\n",
    "pyplot.show()"
   ]
  },
  {
   "cell_type": "markdown",
   "metadata": {},
   "source": [
    "### Question 3.2.2 Did you notice that when you ran the previous model you got the following warning: \"ConvergenceWarning: The max_iter was reached which means the coef_ did not converge\". Check the documentation and see if you can implement a fix for this problem, and again report your results."
   ]
  },
  {
   "cell_type": "code",
   "execution_count": 788,
   "metadata": {},
   "outputs": [
    {
     "name": "stdout",
     "output_type": "stream",
     "text": [
      "Accuracy:    0.868132\n",
      "Precision:   0.850000\n",
      "Recall:      0.850000\n",
      "F1 Score:    0.850000\n"
     ]
    },
    {
     "data": {
      "image/png": "[encoded data removed]",
      "text/plain": [
       "<matplotlib.figure.Figure at 0x122d9e5f8>"
      ]
     },
     "metadata": {},
     "output_type": "display_data"
    },
    {
     "data": {
      "image/png": "[encoded data removed]",
      "text/plain": [
       "<matplotlib.figure.Figure at 0x1229aae80>"
      ]
     },
     "metadata": {},
     "output_type": "display_data"
    }
   ],
   "source": [
    "# Logistic Regression\n",
    "clf = LogisticRegression(solver='sag', max_iter=10000).fit(X_train_prep, y_train_prep)\n",
    "y_predict_prep = clf.predict(X_test_prep)\n",
    "score = clf.predict_proba(X_test_prep)\n",
    "\n",
    "print(\"%-12s %f\" % ('Accuracy:', metrics.accuracy_score(y_test_prep, y_predict_prep)))\n",
    "print(\"%-12s %f\" % ('Precision:', metrics.precision_score(y_test_prep, y_predict_prep)))\n",
    "print(\"%-12s %f\" % ('Recall:', metrics.recall_score(y_test_prep, y_predict_prep)))\n",
    "print(\"%-12s %f\" % ('F1 Score:', metrics.f1_score(y_test_prep, y_predict_prep)))\n",
    "draw_confusion_matrix(y_test_prep, y_predict_prep, ['Healthy', 'Sick'])\n",
    "\n",
    "fpr_svm, tpr_svm, thresholds = metrics.roc_curve(y_test_prep, score_prep[:, 1], pos_label=1)\n",
    "pyplot.figure(1)\n",
    "pyplot.plot(fpr_svm, tpr_svm, color='blue', lw=1)\n",
    "pyplot.xlabel('FPR')\n",
    "pyplot.ylabel('TPR')\n",
    "pyplot.show()"
   ]
  },
  {
   "cell_type": "markdown",
   "metadata": {},
   "source": [
    "### Question 3.2.3 Explain what you changed, and why that produced an improved outcome. "
   ]
  },
  {
   "cell_type": "markdown",
   "metadata": {},
   "source": [
    "I have increased the maximum number of iterations to 10000. The model will either converge or stop at 10000th iteration when it does not. The previous outcome produces the warning because the value of max_iter is set to a small value. If the dataset is properly normalized and separable (not necessarily linear), logistic regression is likely to converge. If it does not, just increase the maximum number of iterations."
   ]
  },
  {
   "cell_type": "markdown",
   "metadata": {},
   "source": [
    "### Question 3.2.4 Rerun your logistic classifier, but modify the penalty = 'none', solver='sag' and again report the results."
   ]
  },
  {
   "cell_type": "code",
   "execution_count": 789,
   "metadata": {},
   "outputs": [
    {
     "name": "stdout",
     "output_type": "stream",
     "text": [
      "Accuracy:    0.857143\n",
      "Precision:   0.846154\n",
      "Recall:      0.825000\n",
      "F1 Score:    0.835443\n"
     ]
    },
    {
     "data": {
      "image/png": "[encoded data removed]",
      "text/plain": [
       "<matplotlib.figure.Figure at 0x121e7dfd0>"
      ]
     },
     "metadata": {},
     "output_type": "display_data"
    },
    {
     "data": {
      "image/png": "[encoded data removed]",
      "text/plain": [
       "<matplotlib.figure.Figure at 0x122fa25c0>"
      ]
     },
     "metadata": {},
     "output_type": "display_data"
    }
   ],
   "source": [
    "# Logistic Regression\n",
    "clf = LogisticRegression(solver='sag', max_iter=100000, penalty='none').fit(X_train_prep, y_train_prep)\n",
    "y_predict_prep = clf.predict(X_test_prep)\n",
    "score = clf.predict_proba(X_test_prep)\n",
    "\n",
    "print(\"%-12s %f\" % ('Accuracy:', metrics.accuracy_score(y_test_prep, y_predict_prep)))\n",
    "print(\"%-12s %f\" % ('Precision:', metrics.precision_score(y_test_prep, y_predict_prep)))\n",
    "print(\"%-12s %f\" % ('Recall:', metrics.recall_score(y_test_prep, y_predict_prep)))\n",
    "print(\"%-12s %f\" % ('F1 Score:', metrics.f1_score(y_test_prep, y_predict_prep)))\n",
    "draw_confusion_matrix(y_test_prep, y_predict_prep, ['Healthy', 'Sick'])\n",
    "\n",
    "fpr_svm, tpr_svm, thresholds = metrics.roc_curve(y_test_prep, score_prep[:, 1], pos_label=1)\n",
    "pyplot.figure(1)\n",
    "pyplot.plot(fpr_svm, tpr_svm, color='blue', lw=1)\n",
    "pyplot.xlabel('FPR')\n",
    "pyplot.ylabel('TPR')\n",
    "pyplot.show()"
   ]
  },
  {
   "cell_type": "markdown",
   "metadata": {},
   "source": [
    "### Question 3.2.5 Explain what what the penalty parameter is doing in this function, what the solver method is, and why this combination likely produced a more optimal outcome. "
   ]
  },
  {
   "cell_type": "markdown",
   "metadata": {},
   "source": [
    "The penalty parameter specifies the way of regularization in the logistic regression model. The default is l2 which adds squared magnitude of coefficient as penalty term to the loss function. The solver method specifies the algorithm to use in the optimization problem. ‘sag’ handles L2 or no penalty and is fast in convergence with larger datasets. The model performs better than the penalty is set to the default value of L2. L2 regularizes the learning rate after each learning step. A larger distance from the true label will result a bigger learning step on the opposite direction. Similarly, if the distance is small, we will adjust the step accordingly. Regularization gives more accurate result and also faster convergence."
   ]
  },
  {
   "cell_type": "markdown",
   "metadata": {},
   "source": [
    "### Question 3.2.6 Both logistic regression and linear SVM are trying to classify data points using a linear decision boundary, then what’s the difference between their ways to find this boundary?"
   ]
  },
  {
   "cell_type": "markdown",
   "metadata": {},
   "source": [
    "SVM tries to find the widest possible separating margin, while Logistic Regression optimizes the log likelihood function, with probabilities modeled by the sigmoid function. "
   ]
  },
  {
   "cell_type": "markdown",
   "metadata": {},
   "source": [
    "### Clustering Approaches "
   ]
  },
  {
   "cell_type": "markdown",
   "metadata": {},
   "source": [
    "Let us now try a different approach to classification using a clustering algorithm. Specifically, we're going to be using K-Nearest Neighbor, one of the most popular clustering approaches. "
   ]
  },
  {
   "cell_type": "markdown",
   "metadata": {},
   "source": [
    "### K-Nearest Neighbor  "
   ]
  },
  {
   "cell_type": "markdown",
   "metadata": {},
   "source": [
    "### Question 3.3.1 Implement a K-Nearest Neighbor algorithm on our data and report the results. For this initial implementation simply use the default settings. Refer to the [KNN Documentation](https://scikit-learn.org/stable/modules/generated/sklearn.neighbors.KNeighborsClassifier.html) for details on implementation. Report on the accuracy of the resulting model."
   ]
  },
  {
   "cell_type": "code",
   "execution_count": 790,
   "metadata": {},
   "outputs": [
    {
     "name": "stdout",
     "output_type": "stream",
     "text": [
      "Accuracy:    0.813187\n"
     ]
    }
   ],
   "source": [
    "# k-Nearest Neighbors algorithm\n",
    "knn = KNeighborsClassifier()\n",
    "knn.fit(X_train_prep, y_train_prep)\n",
    "y_predict_prep = knn.predict(X_test_prep)\n",
    "print(\"%-12s %f\" % ('Accuracy:', metrics.accuracy_score(y_test_prep, y_predict_prep)))"
   ]
  },
  {
   "cell_type": "markdown",
   "metadata": {},
   "source": [
    "### Question 3.3.2 For clustering algorithms, we use different measures to determine the effectiveness of the model. Specifically here, we're interested in the Homogeneity Score, Completeness Score, V-Measure, Adjusted Rand Score, and Adjusted Mutual Information. Calculate each score (hint review the SKlearn Metrics Clustering documentation for how to implement)."
   ]
  },
  {
   "cell_type": "code",
   "execution_count": 791,
   "metadata": {},
   "outputs": [
    {
     "name": "stdout",
     "output_type": "stream",
     "text": [
      "Homogeneity: 0.302012\n",
      "Completeness: 0.300948\n",
      "V-Measure:   0.301479\n",
      "Adjusted Rand Score: 0.385595\n",
      "Adjusted Mutual Information: 0.295749\n"
     ]
    }
   ],
   "source": [
    "print(\"%-12s %f\" % ('Homogeneity:', metrics.homogeneity_score(y_test_prep, y_predict_prep)))\n",
    "print(\"%-12s %f\" % ('Completeness:', metrics.completeness_score(y_test_prep, y_predict_prep)))\n",
    "print(\"%-12s %f\" % ('V-Measure:', metrics.v_measure_score(y_test_prep, y_predict_prep)))\n",
    "print(\"%-12s %f\" % ('Adjusted Rand Score:', metrics.adjusted_rand_score(y_test_prep, y_predict_prep)))\n",
    "print(\"%-12s %f\" % ('Adjusted Mutual Information:', metrics.adjusted_mutual_info_score(y_test_prep, y_predict_prep)))"
   ]
  },
  {
   "cell_type": "markdown",
   "metadata": {},
   "source": [
    "### Question 3.3.3 Explain what each score means and interpret the results for this particular model. "
   ]
  },
  {
   "cell_type": "markdown",
   "metadata": {},
   "source": [
    "Since KNN is a classification model instead of a clustering algorithm, the scores for measuring clustering algorithms are not meaningful.\n",
    "- Homogeneity score: a clustering result satisfies homogeneity if all of its clusters contain only data points which are members of a single class. A lower score means that many points are from different classes in a cluster. \n",
    "- Completeness score: completeness measures if all members of a given class are assigned to the same cluster. A low completeness score indicates that members of a given class are assigned to multiple clusters.\n",
    "- V-Measure: The harmonic mean of homogeneity and completeness is called v-measure score. It takes into account of the homogeneity of each cluster and the consistent cluster labeling of each class. V-measure is symmetric: it can be used to evaluate the agreement of two independent assignments on the same dataset. Random labeling won’t yield zero scores especially when the number of clusters is large.\n",
    "- Adjusted Rand Score: the Rand Index computes a similarity measure between two clusterings by considering all pairs of samples and counting pairs that are assigned in the same or different clusters in the predicted and true clusterings. ARI = (RI - Expected_RI) / (max(RI) - Expected_RI). For smaller sample sizes or larger number of clusters it is safer to use an adjusted index such as the Adjusted Rand Index (ARI).\n",
    "- Adjusted Mutual Information: mutual information score is a measure of mutual dependence between two clusetrings of the same data. It quantifies the amount of information obtained about one clustering through observing the other one. Adjusted mutual information accounts for the fact that the MI is generally higher for two clusterings with a larger number of clusters, regardless of whether there is actually more information shared, so adjusted mutual information is cluster-size-invariant. "
   ]
  },
  {
   "cell_type": "markdown",
   "metadata": {},
   "source": [
    "As we're beginning to see, the input parameters for your model can dramatically impact the performance of the model. How do you know which settings to choose? Studying the models and studying your datasets are critical as they can help you anticipate which models and settings are likely to produce optimal results. However sometimes that isn't enough, and a brute force method is necessary to determine which parameters to use. For this next question we'll attempt to optimize a parameter using a brute force approach. "
   ]
  },
  {
   "cell_type": "markdown",
   "metadata": {},
   "source": [
    "### Question 3.3.4 Parameter Optimization.  The KNN Algorithm includes an n_neighbors attribute that specifies how many neighbors to use when developing the cluster. (The default value is 5, which is what your previous model used.) Lets now try n values of: 1, 2, 3, 5, 10, 20, 50, and 100. Run your model for each value and report the 6 measures (5 clustering specific plus accuracy) for each. Report on which n value produces the best accuracy and V-Measure. (HINT leverage python's ability to loop to run through the array and generate results without needing to manually code each iteration)."
   ]
  },
  {
   "cell_type": "code",
   "execution_count": 792,
   "metadata": {},
   "outputs": [
    {
     "name": "stdout",
     "output_type": "stream",
     "text": [
      "n = 1\n",
      "Accuracy:    0.802198\n",
      "Homogeneity: 0.281205\n",
      "Completeness: 0.279428\n",
      "V-Measure:   0.280314\n",
      "Adjusted Rand Score: 0.358254\n",
      "Adjusted Mutual Information: 0.274419\n",
      "n = 2\n",
      "Accuracy:    0.780220\n",
      "Homogeneity: 0.232614\n",
      "Completeness: 0.241401\n",
      "V-Measure:   0.236926\n",
      "Adjusted Rand Score: 0.306335\n",
      "Adjusted Mutual Information: 0.230529\n",
      "n = 3\n",
      "Accuracy:    0.769231\n",
      "Homogeneity: 0.232424\n",
      "Completeness: 0.230148\n",
      "V-Measure:   0.231280\n",
      "Adjusted Rand Score: 0.282078\n",
      "Adjusted Mutual Information: 0.224996\n",
      "n = 5\n",
      "Accuracy:    0.813187\n",
      "Homogeneity: 0.302012\n",
      "Completeness: 0.300948\n",
      "V-Measure:   0.301479\n",
      "Adjusted Rand Score: 0.385595\n",
      "Adjusted Mutual Information: 0.295749\n",
      "n = 10\n",
      "Accuracy:    0.857143\n",
      "Homogeneity: 0.402253\n",
      "Completeness: 0.408344\n",
      "V-Measure:   0.405276\n",
      "Adjusted Rand Score: 0.504718\n",
      "Adjusted Mutual Information: 0.400348\n",
      "n = 20\n",
      "Accuracy:    0.802198\n",
      "Homogeneity: 0.277479\n",
      "Completeness: 0.277479\n",
      "V-Measure:   0.277479\n",
      "Adjusted Rand Score: 0.358233\n",
      "Adjusted Mutual Information: 0.271540\n",
      "n = 50\n",
      "Accuracy:    0.813187\n",
      "Homogeneity: 0.297842\n",
      "Completeness: 0.302352\n",
      "V-Measure:   0.300080\n",
      "Adjusted Rand Score: 0.385538\n",
      "Adjusted Mutual Information: 0.294281\n",
      "\n",
      "The model with the best performance:  10\n"
     ]
    }
   ],
   "source": [
    "max_accur = 0\n",
    "max_n = -1\n",
    "for i in [1,2,3,5,10,20,50]:\n",
    "    knn = KNeighborsClassifier(n_neighbors=i)\n",
    "    knn.fit(X_train_prep, y_train_prep)\n",
    "    y_predict_prep = knn.predict(X_test_prep)\n",
    "    curr_accur = metrics.accuracy_score(y_test_prep, y_predict_prep)\n",
    "    if curr_accur > max_accur:\n",
    "        max_accur = curr_accur\n",
    "        max_n = i\n",
    "    print(\"n =\",i)\n",
    "    print(\"%-12s %f\" % ('Accuracy:', metrics.accuracy_score(y_test_prep, y_predict_prep)))\n",
    "    print(\"%-12s %f\" % ('Homogeneity:', metrics.homogeneity_score(y_test_prep, y_predict_prep)))\n",
    "    print(\"%-12s %f\" % ('Completeness:', metrics.completeness_score(y_test_prep, y_predict_prep)))\n",
    "    print(\"%-12s %f\" % ('V-Measure:', metrics.v_measure_score(y_test_prep, y_predict_prep)))\n",
    "    print(\"%-12s %f\" % ('Adjusted Rand Score:', metrics.adjusted_rand_score(y_test_prep, y_predict_prep)))\n",
    "    print(\"%-12s %f\" % ('Adjusted Mutual Information:', metrics.adjusted_mutual_info_score(y_test_prep, y_predict_prep)))\n",
    "    \n",
    "print (\"\\nThe model with the best performance: \", max_n)"
   ]
  },
  {
   "cell_type": "markdown",
   "metadata": {},
   "source": [
    "### Question 3.3.5 When are clustering algorithms most effective, and what do you think explains the comparative results we achieved?  "
   ]
  },
  {
   "cell_type": "markdown",
   "metadata": {},
   "source": [
    "The clustering algorithms are a method of unsupervised learning, that is the dataset given to the model training does not include labels.  Unsupervised learning aims to discover hidden patterns in data. We should use clustering algorithms when we only want to investigate the structure of the data by grouping the data points into distinct subgroups. We don’t evaluate a clustering model by compareing the output of the clustering algorithm to the true labels to evaluate its performance; instead, we look at if each cluster is homogeneous in its composition and if each subclass is categorized to the same cluster."
   ]
  }
 ],
 "metadata": {
  "kernelspec": {
   "display_name": "Python 3",
   "language": "python",
   "name": "python3"
  },
  "language_info": {
   "codemirror_mode": {
    "name": "ipython",
    "version": 3
   },
   "file_extension": ".py",
   "mimetype": "text/x-python",
   "name": "python",
   "nbconvert_exporter": "python",
   "pygments_lexer": "ipython3",
   "version": "3.5.2"
  }
 },
 "nbformat": 4,
 "nbformat_minor": 2
}
